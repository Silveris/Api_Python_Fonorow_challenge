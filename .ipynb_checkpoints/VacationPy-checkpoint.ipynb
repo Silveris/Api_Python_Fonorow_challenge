{
 "cells": [
  {
   "cell_type": "markdown",
   "metadata": {},
   "source": [
    "# VacationPy\n",
    "----\n",
    "\n",
    "#### Note\n",
    "* Instructions have been included for each segment. You do not have to follow them exactly, but they are included to help you think through the steps."
   ]
  },
  {
   "cell_type": "code",
   "execution_count": 132,
   "metadata": {},
   "outputs": [],
   "source": [
    "# Dependencies and Setup\n",
    "import matplotlib.pyplot as plt\n",
    "import pandas as pd\n",
    "import numpy as np\n",
    "import requests\n",
    "from pprint import pprint\n",
    "# import gmaps\n",
    "import gmaps\n",
    "\n",
    "# Import API key\n",
    "from config.api_keys import g_key\n",
    "\n",
    "# Configure gmaps\n",
    "gmaps.configure(api_key=g_key)"
   ]
  },
  {
   "cell_type": "markdown",
   "metadata": {},
   "source": [
    "### Store Part I results into DataFrame\n",
    "* Load the csv exported in Part I to a DataFrame"
   ]
  },
  {
   "cell_type": "code",
   "execution_count": 134,
   "metadata": {},
   "outputs": [
    {
     "data": {
      "text/html": [
       "<div>\n",
       "<style scoped>\n",
       "    .dataframe tbody tr th:only-of-type {\n",
       "        vertical-align: middle;\n",
       "    }\n",
       "\n",
       "    .dataframe tbody tr th {\n",
       "        vertical-align: top;\n",
       "    }\n",
       "\n",
       "    .dataframe thead th {\n",
       "        text-align: right;\n",
       "    }\n",
       "</style>\n",
       "<table border=\"1\" class=\"dataframe\">\n",
       "  <thead>\n",
       "    <tr style=\"text-align: right;\">\n",
       "      <th></th>\n",
       "      <th>City</th>\n",
       "      <th>Cloudiness</th>\n",
       "      <th>Country</th>\n",
       "      <th>Date</th>\n",
       "      <th>Humidity</th>\n",
       "      <th>Lat</th>\n",
       "      <th>Lng</th>\n",
       "      <th>Max Temp</th>\n",
       "      <th>Wind Speed</th>\n",
       "    </tr>\n",
       "  </thead>\n",
       "  <tbody>\n",
       "    <tr>\n",
       "      <th>0</th>\n",
       "      <td>Anadyr</td>\n",
       "      <td>90</td>\n",
       "      <td>RU</td>\n",
       "      <td>1587162143</td>\n",
       "      <td>78</td>\n",
       "      <td>64.75</td>\n",
       "      <td>177.48</td>\n",
       "      <td>12.20</td>\n",
       "      <td>13.42</td>\n",
       "    </tr>\n",
       "    <tr>\n",
       "      <th>1</th>\n",
       "      <td>Carnarvon</td>\n",
       "      <td>89</td>\n",
       "      <td>AU</td>\n",
       "      <td>1587162149</td>\n",
       "      <td>88</td>\n",
       "      <td>-24.87</td>\n",
       "      <td>113.63</td>\n",
       "      <td>75.20</td>\n",
       "      <td>5.82</td>\n",
       "    </tr>\n",
       "    <tr>\n",
       "      <th>2</th>\n",
       "      <td>Saldanha</td>\n",
       "      <td>70</td>\n",
       "      <td>ZA</td>\n",
       "      <td>1587162150</td>\n",
       "      <td>72</td>\n",
       "      <td>-33.01</td>\n",
       "      <td>17.94</td>\n",
       "      <td>59.00</td>\n",
       "      <td>9.17</td>\n",
       "    </tr>\n",
       "    <tr>\n",
       "      <th>3</th>\n",
       "      <td>Codrington</td>\n",
       "      <td>100</td>\n",
       "      <td>AU</td>\n",
       "      <td>1587162150</td>\n",
       "      <td>77</td>\n",
       "      <td>-38.27</td>\n",
       "      <td>141.97</td>\n",
       "      <td>54.73</td>\n",
       "      <td>9.53</td>\n",
       "    </tr>\n",
       "    <tr>\n",
       "      <th>4</th>\n",
       "      <td>Rikitea</td>\n",
       "      <td>1</td>\n",
       "      <td>PF</td>\n",
       "      <td>1587161996</td>\n",
       "      <td>65</td>\n",
       "      <td>-23.12</td>\n",
       "      <td>-134.97</td>\n",
       "      <td>77.18</td>\n",
       "      <td>2.51</td>\n",
       "    </tr>\n",
       "    <tr>\n",
       "      <th>...</th>\n",
       "      <td>...</td>\n",
       "      <td>...</td>\n",
       "      <td>...</td>\n",
       "      <td>...</td>\n",
       "      <td>...</td>\n",
       "      <td>...</td>\n",
       "      <td>...</td>\n",
       "      <td>...</td>\n",
       "      <td>...</td>\n",
       "    </tr>\n",
       "    <tr>\n",
       "      <th>561</th>\n",
       "      <td>Komsomolets</td>\n",
       "      <td>98</td>\n",
       "      <td>KZ</td>\n",
       "      <td>1587162232</td>\n",
       "      <td>67</td>\n",
       "      <td>53.75</td>\n",
       "      <td>62.07</td>\n",
       "      <td>46.29</td>\n",
       "      <td>15.70</td>\n",
       "    </tr>\n",
       "    <tr>\n",
       "      <th>562</th>\n",
       "      <td>Rio Grande</td>\n",
       "      <td>4</td>\n",
       "      <td>BR</td>\n",
       "      <td>1587162037</td>\n",
       "      <td>83</td>\n",
       "      <td>-32.03</td>\n",
       "      <td>-52.10</td>\n",
       "      <td>62.01</td>\n",
       "      <td>10.45</td>\n",
       "    </tr>\n",
       "    <tr>\n",
       "      <th>563</th>\n",
       "      <td>Plérin</td>\n",
       "      <td>66</td>\n",
       "      <td>FR</td>\n",
       "      <td>1587162232</td>\n",
       "      <td>87</td>\n",
       "      <td>48.54</td>\n",
       "      <td>-2.78</td>\n",
       "      <td>55.00</td>\n",
       "      <td>1.12</td>\n",
       "    </tr>\n",
       "    <tr>\n",
       "      <th>564</th>\n",
       "      <td>Abu Samrah</td>\n",
       "      <td>9</td>\n",
       "      <td>SY</td>\n",
       "      <td>1587162232</td>\n",
       "      <td>43</td>\n",
       "      <td>35.30</td>\n",
       "      <td>37.18</td>\n",
       "      <td>64.74</td>\n",
       "      <td>5.91</td>\n",
       "    </tr>\n",
       "    <tr>\n",
       "      <th>565</th>\n",
       "      <td>Capoterra</td>\n",
       "      <td>75</td>\n",
       "      <td>IT</td>\n",
       "      <td>1587162233</td>\n",
       "      <td>87</td>\n",
       "      <td>39.18</td>\n",
       "      <td>8.97</td>\n",
       "      <td>61.00</td>\n",
       "      <td>11.41</td>\n",
       "    </tr>\n",
       "  </tbody>\n",
       "</table>\n",
       "<p>566 rows × 9 columns</p>\n",
       "</div>"
      ],
      "text/plain": [
       "            City  Cloudiness Country        Date  Humidity    Lat     Lng  \\\n",
       "0         Anadyr          90      RU  1587162143        78  64.75  177.48   \n",
       "1      Carnarvon          89      AU  1587162149        88 -24.87  113.63   \n",
       "2       Saldanha          70      ZA  1587162150        72 -33.01   17.94   \n",
       "3     Codrington         100      AU  1587162150        77 -38.27  141.97   \n",
       "4        Rikitea           1      PF  1587161996        65 -23.12 -134.97   \n",
       "..           ...         ...     ...         ...       ...    ...     ...   \n",
       "561  Komsomolets          98      KZ  1587162232        67  53.75   62.07   \n",
       "562   Rio Grande           4      BR  1587162037        83 -32.03  -52.10   \n",
       "563       Plérin          66      FR  1587162232        87  48.54   -2.78   \n",
       "564   Abu Samrah           9      SY  1587162232        43  35.30   37.18   \n",
       "565    Capoterra          75      IT  1587162233        87  39.18    8.97   \n",
       "\n",
       "     Max Temp  Wind Speed  \n",
       "0       12.20       13.42  \n",
       "1       75.20        5.82  \n",
       "2       59.00        9.17  \n",
       "3       54.73        9.53  \n",
       "4       77.18        2.51  \n",
       "..        ...         ...  \n",
       "561     46.29       15.70  \n",
       "562     62.01       10.45  \n",
       "563     55.00        1.12  \n",
       "564     64.74        5.91  \n",
       "565     61.00       11.41  \n",
       "\n",
       "[566 rows x 9 columns]"
      ]
     },
     "execution_count": 134,
     "metadata": {},
     "output_type": "execute_result"
    }
   ],
   "source": [
    "df_base = pd.read_csv('output/cities.csv', index_col=0)\n",
    "df_base"
   ]
  },
  {
   "cell_type": "code",
   "execution_count": 135,
   "metadata": {},
   "outputs": [],
   "source": [
    "locations = df_base[['Lat', 'Lng']].astype(float)\n",
    "humidity = df_base['Humidity'].astype(float)"
   ]
  },
  {
   "cell_type": "code",
   "execution_count": 141,
   "metadata": {},
   "outputs": [
    {
     "data": {
      "application/vnd.jupyter.widget-view+json": {
       "model_id": "b7245b32ceb448c9a161cc6aa94a4520",
       "version_major": 2,
       "version_minor": 0
      },
      "text/plain": [
       "Figure(layout=FigureLayout(height='420px'))"
      ]
     },
     "metadata": {},
     "output_type": "display_data"
    }
   ],
   "source": [
    "\n",
    "fig = gmaps.figure()\n",
    "\n",
    "heatLayer = gmaps.heatmap_layer(\n",
    "    locations,\n",
    "    weights=humidity,\n",
    "    dissipating=False,\n",
    "    max_intensity=10 ,\n",
    "    point_radius=1\n",
    ")\n",
    "\n",
    "fig.add_layer(heatLayer)\n",
    "\n",
    "fig"
   ]
  },
  {
   "cell_type": "code",
   "execution_count": 40,
   "metadata": {},
   "outputs": [],
   "source": [
    "df_trimed = df_base.loc[(df_base['Max Temp'] <= 65) & (df_base['Max Temp'] >= 45) & (df_base['Humidity'] <= 40)].reset_index(drop=True).copy()"
   ]
  },
  {
   "cell_type": "code",
   "execution_count": 65,
   "metadata": {},
   "outputs": [],
   "source": [
    "hotel_df = df_trimed.copy()\n",
    "hotel_df['Hotel Name'] = ''\n",
    "hotel_names = []"
   ]
  },
  {
   "cell_type": "code",
   "execution_count": 66,
   "metadata": {},
   "outputs": [
    {
     "name": "stdout",
     "output_type": "stream",
     "text": [
      "Los Cauquenes Resort & Spa\n",
      "Could not find Hotel\n",
      "El Rancho Hotel\n",
      "Quality Inn\n",
      "Haoli Business Hotel\n",
      "Kempinski Hotel Yinchuan\n",
      "Best Western Danbury/Bethel\n",
      "Zhangjiakou International Hotel\n",
      "Mandal Hotel\n",
      "The Trainmaster's Inn\n",
      "Canopy by Hilton Minneapolis Mill District\n",
      "Blue Poppy Resorts\n",
      "Could not find Hotel\n",
      "Country Inn & Suites by Radisson, Gillette, WY\n",
      "Comfort Inn & Suites Lovington\n",
      "Quality Inn Payson I-15\n",
      "Casa Grande de Anllo\n",
      "Towo Topping Hotel\n",
      "Could not find Hotel\n",
      "Holiday Inn Express & Suites Klamath Falls Central\n",
      "['Los Cauquenes Resort & Spa', 'N/A', 'El Rancho Hotel', 'Quality Inn', 'Haoli Business Hotel', 'Kempinski Hotel Yinchuan', 'Best Western Danbury/Bethel', 'Zhangjiakou International Hotel', 'Mandal Hotel', \"The Trainmaster's Inn\", 'Canopy by Hilton Minneapolis Mill District', 'Blue Poppy Resorts', 'N/A', 'Country Inn & Suites by Radisson, Gillette, WY', 'Comfort Inn & Suites Lovington', 'Quality Inn Payson I-15', 'Casa Grande de Anllo', 'Towo Topping Hotel', 'N/A', 'Holiday Inn Express & Suites Klamath Falls Central']\n"
     ]
    }
   ],
   "source": [
    "for i, row in hotel_df.iterrows():\n",
    "\n",
    "    # geocoordinates\n",
    "    target_coordinates = str(row['Lat']) + ',' +  str(row['Lng'])\n",
    "    target_search = \"Hotel\"\n",
    "    target_radius = 5000\n",
    "    target_type = \"lodging\"\n",
    "\n",
    "    # set up a parameters dictionary\n",
    "    params = {\n",
    "        \"location\": target_coordinates,\n",
    "        \"keyword\": target_search,\n",
    "        \"radius\": target_radius,\n",
    "        \"type\": target_type,\n",
    "        \"key\": g_key\n",
    "    }\n",
    "    # base url\n",
    "    base_url = \"https://maps.googleapis.com/maps/api/place/nearbysearch/json\"\n",
    "\n",
    "    # run a request using our params dictionary\n",
    "    response = requests.get(base_url, params=params)\n",
    "    tempor = response.json()\n",
    "    try:\n",
    "        hotel_names.append(tempor['results'][0]['name'])\n",
    "        print(tempor['results'][0]['name'])\n",
    "    except (KeyError, IndexError):\n",
    "        print(\"Could not find Hotel\")\n",
    "        hotel_names.append('N/A')\n",
    "print(hotel_names)"
   ]
  },
  {
   "cell_type": "code",
   "execution_count": 75,
   "metadata": {
    "scrolled": true
   },
   "outputs": [],
   "source": [
    "hotel_df['Hotel Name'] = hotel_names"
   ]
  },
  {
   "cell_type": "code",
   "execution_count": 76,
   "metadata": {},
   "outputs": [
    {
     "data": {
      "text/html": [
       "<div>\n",
       "<style scoped>\n",
       "    .dataframe tbody tr th:only-of-type {\n",
       "        vertical-align: middle;\n",
       "    }\n",
       "\n",
       "    .dataframe tbody tr th {\n",
       "        vertical-align: top;\n",
       "    }\n",
       "\n",
       "    .dataframe thead th {\n",
       "        text-align: right;\n",
       "    }\n",
       "</style>\n",
       "<table border=\"1\" class=\"dataframe\">\n",
       "  <thead>\n",
       "    <tr style=\"text-align: right;\">\n",
       "      <th></th>\n",
       "      <th>City</th>\n",
       "      <th>Cloudiness</th>\n",
       "      <th>Country</th>\n",
       "      <th>Date</th>\n",
       "      <th>Humidity</th>\n",
       "      <th>Lat</th>\n",
       "      <th>Lng</th>\n",
       "      <th>Max Temp</th>\n",
       "      <th>Wind Speed</th>\n",
       "      <th>Hotel Name</th>\n",
       "    </tr>\n",
       "  </thead>\n",
       "  <tbody>\n",
       "    <tr>\n",
       "      <th>1</th>\n",
       "      <td>Albany</td>\n",
       "      <td>100</td>\n",
       "      <td>US</td>\n",
       "      <td>1587162153</td>\n",
       "      <td>32</td>\n",
       "      <td>42.60</td>\n",
       "      <td>-73.97</td>\n",
       "      <td>46.99</td>\n",
       "      <td>5.01</td>\n",
       "      <td>N/A</td>\n",
       "    </tr>\n",
       "    <tr>\n",
       "      <th>12</th>\n",
       "      <td>Faya</td>\n",
       "      <td>0</td>\n",
       "      <td>SA</td>\n",
       "      <td>1587162208</td>\n",
       "      <td>34</td>\n",
       "      <td>18.39</td>\n",
       "      <td>42.45</td>\n",
       "      <td>64.40</td>\n",
       "      <td>8.05</td>\n",
       "      <td>N/A</td>\n",
       "    </tr>\n",
       "    <tr>\n",
       "      <th>18</th>\n",
       "      <td>Gazli</td>\n",
       "      <td>4</td>\n",
       "      <td>UZ</td>\n",
       "      <td>1587162219</td>\n",
       "      <td>28</td>\n",
       "      <td>40.13</td>\n",
       "      <td>63.45</td>\n",
       "      <td>64.45</td>\n",
       "      <td>2.95</td>\n",
       "      <td>N/A</td>\n",
       "    </tr>\n",
       "  </tbody>\n",
       "</table>\n",
       "</div>"
      ],
      "text/plain": [
       "      City  Cloudiness Country        Date  Humidity    Lat    Lng  Max Temp  \\\n",
       "1   Albany         100      US  1587162153        32  42.60 -73.97     46.99   \n",
       "12    Faya           0      SA  1587162208        34  18.39  42.45     64.40   \n",
       "18   Gazli           4      UZ  1587162219        28  40.13  63.45     64.45   \n",
       "\n",
       "    Wind Speed Hotel Name  \n",
       "1         5.01        N/A  \n",
       "12        8.05        N/A  \n",
       "18        2.95        N/A  "
      ]
     },
     "execution_count": 76,
     "metadata": {},
     "output_type": "execute_result"
    }
   ],
   "source": [
    "hotel_df.loc[hotel_df['Hotel Name'] == 'N/A']"
   ]
  },
  {
   "cell_type": "code",
   "execution_count": 79,
   "metadata": {},
   "outputs": [],
   "source": [
    "hotel_df = hotel_df[hotel_df['Hotel Name'] != 'N/A'].reset_index(drop=True)"
   ]
  },
  {
   "cell_type": "code",
   "execution_count": 86,
   "metadata": {},
   "outputs": [],
   "source": [
    "mark_lats = hotel_df['Lat'].to_list()\n",
    "mark_lngs = hotel_df['Lng'].to_list()\n",
    "marker_coords = []\n",
    "for x in range(len(mark_lats)):\n",
    "    marker_coords.append([mark_lats[x] , mark_lngs[x]])\n"
   ]
  },
  {
   "cell_type": "code",
   "execution_count": 121,
   "metadata": {},
   "outputs": [],
   "source": [
    "names = hotel_df['Hotel Name'].to_list()\n",
    "names_fixed = []\n",
    "for x in names:\n",
    "    names_fixed.append(x.replace('&', 'and'))"
   ]
  },
  {
   "cell_type": "code",
   "execution_count": 128,
   "metadata": {},
   "outputs": [
    {
     "data": {
      "text/plain": [
       "['Ushuaia , AR , Los Cauquenes Resort and Spa',\n",
       " 'Gallup , US , El Rancho Hotel',\n",
       " 'Raton , US , Quality Inn',\n",
       " 'Kumul , CN , Haoli Business Hotel',\n",
       " 'Yinchuan , CN , Kempinski Hotel Yinchuan',\n",
       " 'Bethel , US , Best Western Danbury/Bethel',\n",
       " 'Zhangjiakou , CN , Zhangjiakou International Hotel',\n",
       " 'Mandalgovi , MN , Mandal Hotel',\n",
       " \"Palmer , US , The Trainmaster's Inn\",\n",
       " 'Saint Anthony , US , Canopy by Hilton Minneapolis Mill District',\n",
       " 'Joshīmath , IN , Blue Poppy Resorts',\n",
       " 'Gillette , US , Country Inn and Suites by Radisson, Gillette, WY',\n",
       " 'Lovington , US , Comfort Inn and Suites Lovington',\n",
       " 'Payson , US , Quality Inn Payson I-15',\n",
       " 'Bereda , ES , Casa Grande de Anllo',\n",
       " 'Pingliang , CN , Towo Topping Hotel',\n",
       " 'Klamath Falls , US , Holiday Inn Express and Suites Klamath Falls Central']"
      ]
     },
     "execution_count": 128,
     "metadata": {},
     "output_type": "execute_result"
    }
   ],
   "source": [
    "marker_names = []\n",
    "a = hotel_df['City'].to_list()\n",
    "b = hotel_df['Country'].to_list()\n",
    "for x in range(len(a)):\n",
    "    string = f'{a[x]} , {b[x]} , {names_fixed[x]}'\n",
    "    marker_names.append(string)\n",
    "marker_names"
   ]
  },
  {
   "cell_type": "code",
   "execution_count": 137,
   "metadata": {},
   "outputs": [],
   "source": [
    "marker_layer = gmaps.marker_layer( \n",
    "    locations=marker_coords,\n",
    "    label=marker_names\n",
    ")"
   ]
  },
  {
   "cell_type": "code",
   "execution_count": 138,
   "metadata": {},
   "outputs": [
    {
     "data": {
      "application/vnd.jupyter.widget-view+json": {
       "model_id": "0cccf10cc21c4c9b8004d1f812c9c2ad",
       "version_major": 2,
       "version_minor": 0
      },
      "text/plain": [
       "Figure(layout=FigureLayout(height='420px'))"
      ]
     },
     "metadata": {},
     "output_type": "display_data"
    }
   ],
   "source": [
    "fig.add_layer(marker_layer)\n",
    "fig"
   ]
  },
  {
   "cell_type": "code",
   "execution_count": 103,
   "metadata": {},
   "outputs": [],
   "source": [
    "# # NOTE: Do not change any of the code in this cell\n",
    "\n",
    "# # Using the template add the hotel marks to the heatmap\n",
    "# info_box_template = \"\"\"\n",
    "# <dl>\n",
    "# <dt>Name</dt><dd>{Hotel Name}</dd>\n",
    "# <dt>City</dt><dd>{City}</dd>\n",
    "# <dt>Country</dt><dd>{Country}</dd>\n",
    "# </dl>\n",
    "# \"\"\"\n",
    "# # Store the DataFrame Row\n",
    "# # NOTE: be sure to update with your DataFrame name\n",
    "# hotel_info = [info_box_template.format(**row) for index, row in hotel_df.iterrows()]\n",
    "# locations = hotel_df[[\"Lat\", \"Lng\"]]"
   ]
  }
 ],
 "metadata": {
  "kernelspec": {
   "display_name": "Python 3",
   "language": "python",
   "name": "python3"
  },
  "language_info": {
   "codemirror_mode": {
    "name": "ipython",
    "version": 3
   },
   "file_extension": ".py",
   "mimetype": "text/x-python",
   "name": "python",
   "nbconvert_exporter": "python",
   "pygments_lexer": "ipython3",
   "version": "3.7.6"
  },
  "latex_envs": {
   "LaTeX_envs_menu_present": true,
   "autoclose": false,
   "autocomplete": true,
   "bibliofile": "biblio.bib",
   "cite_by": "apalike",
   "current_citInitial": 1,
   "eqLabelWithNumbers": true,
   "eqNumInitial": 1,
   "hotkeys": {
    "equation": "Ctrl-E",
    "itemize": "Ctrl-I"
   },
   "labels_anchors": false,
   "latex_user_defs": false,
   "report_style_numbering": false,
   "user_envs_cfg": false
  }
 },
 "nbformat": 4,
 "nbformat_minor": 4
}
